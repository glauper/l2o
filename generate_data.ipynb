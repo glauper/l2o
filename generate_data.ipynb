{
 "cells": [
  {
   "cell_type": "code",
   "execution_count": 1,
   "metadata": {},
   "outputs": [
    {
     "name": "stderr",
     "output_type": "stream",
     "text": [
      "/Users/seif/venvs/l2c/lib/python3.9/site-packages/urllib3/__init__.py:35: NotOpenSSLWarning: urllib3 v2 only supports OpenSSL 1.1.1+, currently the 'ssl' module is compiled with 'LibreSSL 2.8.3'. See: https://github.com/urllib3/urllib3/issues/3020\n",
      "  warnings.warn(\n",
      "100%|██████████| 12/12 [00:43<00:00,  3.65s/it]\n",
      "100%|██████████| 12/12 [00:34<00:00,  2.85s/it]\n",
      "100%|██████████| 8/8 [00:23<00:00,  2.89s/it]\n",
      "100%|██████████| 12/12 [00:33<00:00,  2.80s/it]\n",
      "100%|██████████| 12/12 [00:34<00:00,  2.88s/it]\n",
      "100%|██████████| 8/8 [00:44<00:00,  5.54s/it]\n",
      "100%|██████████| 12/12 [01:06<00:00,  5.53s/it]\n",
      "100%|██████████| 12/12 [00:49<00:00,  4.14s/it]\n",
      "100%|██████████| 8/8 [00:24<00:00,  3.04s/it]\n",
      "100%|██████████| 12/12 [00:43<00:00,  3.61s/it]\n",
      "100%|██████████| 12/12 [00:42<00:00,  3.54s/it]\n",
      "100%|██████████| 8/8 [00:21<00:00,  2.75s/it]\n",
      "100%|██████████| 12/12 [00:44<00:00,  3.67s/it]\n",
      "100%|██████████| 12/12 [00:40<00:00,  3.35s/it]\n",
      "100%|██████████| 8/8 [00:27<00:00,  3.39s/it]\n"
     ]
    }
   ],
   "source": [
    "import os\n",
    "import json\n",
    "from tqdm import tqdm\n",
    "from random import sample\n",
    "\n",
    "from llm import LLM\n",
    "from config.config import LLMConfig\n",
    "\n",
    "\n",
    "colors = [\"red\", \"green\", \"blue\", \"orange\"]\n",
    "\n",
    "TP = LLM(LLMConfig(\"TP_OL\", \"Cubes\"))\n",
    "OD = LLM(LLMConfig(\"OD\", \"Cubes\"))\n",
    "\n",
    "def get_instruction(query:str):\n",
    "    instruction = f\"objects = {['blue_cube', 'green_cube', 'orange_cube', 'red_cube']}\\n\"\n",
    "    instruction += f\"# Query: {query}\"\n",
    "    return instruction\n",
    "\n",
    "tasks = [\"stack\", \"L\", \"pyramid\"]\n",
    "\n",
    "for i in range(5):\n",
    "    queries = [\n",
    "        \"make a stack of cubes on top of the {} cube\".format(*sample(colors, 1)),\n",
    "        \"rearrange cubes to write the letter L flat on the table. keep {} at its location\".format(*sample(colors, 1)),\n",
    "        \"build a pyramid with the {} and {} cubes at the base and {} cube at the top. keep {} cube at its original position.\".format(*(2*sample(colors, 3)))\n",
    "    ]\n",
    "\n",
    "    for j, t in enumerate(tasks):\n",
    "        query = queries[j]\n",
    "        plan = TP.run(get_instruction(query))\n",
    "        optimizations = []\n",
    "        for q in tqdm(plan['tasks']):\n",
    "            if q not in ['open_gripper()', 'close_gripper()']:\n",
    "                opt = OD.run(get_instruction(q), short_history=True)\n",
    "                if \"instruction\" not in opt.keys():\n",
    "                    optimizations.append(opt)\n",
    "                else:\n",
    "                    optimizations.append(None)\n",
    "            else:\n",
    "                optimizations.append(None)\n",
    "\n",
    "        data = {\"query\": query, \"plan\": plan, \"optimizations\": optimizations}\n",
    "        data_folder = f\"data/llm_responses/{t}\"\n",
    "        n_files = len(os.listdir(data_folder))\n",
    "        json.dump(data, open(f\"{data_folder}/{n_files}.json\", \"w\"), indent=4)\n"
   ]
  }
 ],
 "metadata": {
  "kernelspec": {
   "display_name": "l2c",
   "language": "python",
   "name": "python3"
  },
  "language_info": {
   "codemirror_mode": {
    "name": "ipython",
    "version": 3
   },
   "file_extension": ".py",
   "mimetype": "text/x-python",
   "name": "python",
   "nbconvert_exporter": "python",
   "pygments_lexer": "ipython3",
   "version": "3.9.6"
  }
 },
 "nbformat": 4,
 "nbformat_minor": 2
}
