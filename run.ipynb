{
 "cells": [
  {
   "cell_type": "code",
   "execution_count": null,
   "metadata": {},
   "outputs": [],
   "source": [
    "import os\n",
    "import json\n",
    "import requests\n",
    "from tqdm import tqdm\n",
    "from time import sleep\n",
    "\n",
    "\n",
    "# base url to reach sim\n",
    "base_url = 'http://localhost:8080/'"
   ]
  },
  {
   "cell_type": "code",
   "execution_count": null,
   "metadata": {},
   "outputs": [],
   "source": [
    "i=0\n",
    "tasks = [\"pyramid\"]\n",
    "#tasks = [\"stack\"]\n",
    "for t in tasks:\n",
    "    print(\"Running task: \", t)\n",
    "    task_folder = f'data/llm_responses/{t}'\n",
    "    for file in tqdm(sorted(os.listdir(task_folder))[:1]):\n",
    "        print(f\"\\nRunning query {i+1}: {file}\")\n",
    "        # reset env\n",
    "        if i != 0: requests.get(base_url + 'reset')\n",
    "        \n",
    "        # load data\n",
    "        data = json.load(open(f\"{task_folder}/{file}\", 'r'))\n",
    "        \n",
    "        query = data['query']\n",
    "        plan = data['plan']\n",
    "        optimizations = data['optimizations']\n",
    "\n",
    "        # upload plan and optimizations\n",
    "        requests.post(base_url+'upload_plan', json={\"query\": query, \"plan\": plan})\n",
    "        requests.post(base_url+'upload_optimizations', json={\"content\": optimizations})\n",
    "\n",
    "        response = \"\"\n",
    "        while response != \"finished\":\n",
    "            response = requests.get(base_url+'next_task').json()[-1]['content']\n",
    "            sleep(8)\n",
    "\n",
    "        # update counter\n",
    "        i+=1\n",
    "\n",
    "_ = requests.get(base_url + 'close')"
   ]
  },
  {
   "cell_type": "code",
   "execution_count": null,
   "metadata": {},
   "outputs": [],
   "source": [
    "task_folder = f'data/llm_responses/stack'\n",
    "print(sorted(os.listdir(task_folder)))"
   ]
  },
  {
   "cell_type": "code",
   "execution_count": null,
   "metadata": {},
   "outputs": [],
   "source": []
  },
  {
   "cell_type": "code",
   "execution_count": null,
   "metadata": {},
   "outputs": [],
   "source": []
  }
 ],
 "metadata": {
  "kernelspec": {
   "display_name": "l2c",
   "language": "python",
   "name": "python3"
  },
  "language_info": {
   "codemirror_mode": {
    "name": "ipython",
    "version": 3
   },
   "file_extension": ".py",
   "mimetype": "text/x-python",
   "name": "python",
   "nbconvert_exporter": "python",
   "pygments_lexer": "ipython3",
   "version": "3.9.6"
  }
 },
 "nbformat": 4,
 "nbformat_minor": 2
}
